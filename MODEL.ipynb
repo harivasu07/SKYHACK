{
 "cells": [
  {
   "cell_type": "markdown",
   "id": "91de21dc",
   "metadata": {},
   "source": [
    "# CLEANING AND JOIN FILES FOR TRAINING"
   ]
  },
  {
   "cell_type": "code",
   "execution_count": 11,
   "id": "b648cbc4",
   "metadata": {},
   "outputs": [],
   "source": [
    "# W W W W W W W W W WW W W W WW W W W W W WWW W W W W WW WW W\n",
    " \n",
    "    \n",
    "import matplotlib.pyplot as plt\n",
    "import numpy as np \n",
    "import pandas as pd\n",
    "\n",
    "df  =  pd.read_csv(\"new_calls.csv\")\n",
    "\n",
    "# CLEANING STEP 1\n",
    "\n",
    "def filter_transcript(transcript):\n",
    "    # Split the transcript into individual lines\n",
    "    lines = transcript.splitlines()\n",
    "    # Keep only the lines that start with 'Customer:' or 'Agent:'\n",
    "    filtered_lines = [line for line in lines if line.startswith(\"Customer:\") or line.startswith(\"Agent:\")]\n",
    "    # Join the filtered lines back into a single string\n",
    "    return \"\\n\".join(filtered_lines)\n",
    "\n",
    "# Apply the filter_transcript function to each row in the 'call_transcript' column\n",
    "df['call_transcript'] = df['call_transcript'].apply(filter_transcript)\n",
    "\n",
    "\n"
   ]
  },
  {
   "cell_type": "code",
   "execution_count": null,
   "id": "35f12fec",
   "metadata": {},
   "outputs": [],
   "source": []
  },
  {
   "cell_type": "code",
   "execution_count": 12,
   "id": "e72268d4",
   "metadata": {},
   "outputs": [],
   "source": [
    "df2 =  pd.read_csv(\"reasons.csv\")\n",
    "\n",
    "df2['primary_call_reason'] = df2['primary_call_reason'].str.strip() # Remove extra spaces\n",
    "df2['primary_call_reason'] = df2['primary_call_reason'].str.lower() # Convert to lowercase\n",
    "df2['primary_call_reason'] = df2['primary_call_reason'].str.replace(r'\\s+', ' ', regex=True)\n",
    "df2['primary_call_reason'] = df2['primary_call_reason'].str.replace(r'&', 'and', regex=True)\n",
    "df2['primary_call_reason'] = df2['primary_call_reason'].str.replace(r'-', ' ', regex=True)\n",
    "\n",
    "df3 =  pd.read_csv(\"testbc.csv\")  # TEST DATA STORED HERE\n"
   ]
  },
  {
   "cell_type": "code",
   "execution_count": 13,
   "id": "d1544b4e",
   "metadata": {},
   "outputs": [
    {
     "data": {
      "text/plain": [
       "call_id    5157\n",
       "dtype: int64"
      ]
     },
     "execution_count": 13,
     "metadata": {},
     "output_type": "execute_result"
    }
   ],
   "source": [
    "df3.count()"
   ]
  },
  {
   "cell_type": "code",
   "execution_count": 14,
   "id": "21137bf2",
   "metadata": {},
   "outputs": [
    {
     "data": {
      "text/html": [
       "<div>\n",
       "<style scoped>\n",
       "    .dataframe tbody tr th:only-of-type {\n",
       "        vertical-align: middle;\n",
       "    }\n",
       "\n",
       "    .dataframe tbody tr th {\n",
       "        vertical-align: top;\n",
       "    }\n",
       "\n",
       "    .dataframe thead th {\n",
       "        text-align: right;\n",
       "    }\n",
       "</style>\n",
       "<table border=\"1\" class=\"dataframe\">\n",
       "  <thead>\n",
       "    <tr style=\"text-align: right;\">\n",
       "      <th></th>\n",
       "      <th>call_id</th>\n",
       "      <th>call_transcript</th>\n",
       "    </tr>\n",
       "  </thead>\n",
       "  <tbody>\n",
       "    <tr>\n",
       "      <th>0</th>\n",
       "      <td>7732610078</td>\n",
       "      <td>Agent: Thank you for calling United Airlines c...</td>\n",
       "    </tr>\n",
       "    <tr>\n",
       "      <th>1</th>\n",
       "      <td>2400299738</td>\n",
       "      <td>Agent: Thank you for calling United Airlines, ...</td>\n",
       "    </tr>\n",
       "    <tr>\n",
       "      <th>2</th>\n",
       "      <td>6533095063</td>\n",
       "      <td>Agent: Thank you for calling United Airlines c...</td>\n",
       "    </tr>\n",
       "    <tr>\n",
       "      <th>3</th>\n",
       "      <td>7774450920</td>\n",
       "      <td>Agent: Thank you for calling United Airlines, ...</td>\n",
       "    </tr>\n",
       "    <tr>\n",
       "      <th>4</th>\n",
       "      <td>9214147168</td>\n",
       "      <td>Agent: Thank you for calling United Airlines c...</td>\n",
       "    </tr>\n",
       "  </tbody>\n",
       "</table>\n",
       "</div>"
      ],
      "text/plain": [
       "      call_id                                    call_transcript\n",
       "0  7732610078  Agent: Thank you for calling United Airlines c...\n",
       "1  2400299738  Agent: Thank you for calling United Airlines, ...\n",
       "2  6533095063  Agent: Thank you for calling United Airlines c...\n",
       "3  7774450920  Agent: Thank you for calling United Airlines, ...\n",
       "4  9214147168  Agent: Thank you for calling United Airlines c..."
      ]
     },
     "execution_count": 14,
     "metadata": {},
     "output_type": "execute_result"
    }
   ],
   "source": [
    "# ADDING TRANSCRIPTS TO TEST CASES\n",
    "df3 = df3.merge(df[['call_id','call_transcript']], on='call_id', how='left')\n",
    "df3.head()"
   ]
  },
  {
   "cell_type": "code",
   "execution_count": 15,
   "id": "f8d17471",
   "metadata": {},
   "outputs": [
    {
     "data": {
      "text/plain": [
       "call_id            5157\n",
       "call_transcript    5157\n",
       "dtype: int64"
      ]
     },
     "execution_count": 15,
     "metadata": {},
     "output_type": "execute_result"
    }
   ],
   "source": [
    "\n",
    "df3.count()\n"
   ]
  },
  {
   "cell_type": "code",
   "execution_count": 16,
   "id": "44704811",
   "metadata": {},
   "outputs": [
    {
     "data": {
      "text/plain": [
       "call_id                    66653\n",
       "customer_id                66653\n",
       "agent_id                   66653\n",
       "call_start_datetime        66653\n",
       "agent_assigned_datetime    66653\n",
       "call_end_datetime          66653\n",
       "call_transcript            66653\n",
       "primary_call_reason        66653\n",
       "dtype: int64"
      ]
     },
     "execution_count": 16,
     "metadata": {},
     "output_type": "execute_result"
    }
   ],
   "source": [
    "full_df = pd.merge(df, df2, how='inner', on='call_id')# MERGE CALL AND REASONS\n",
    "full_df.count()"
   ]
  },
  {
   "cell_type": "code",
   "execution_count": 17,
   "id": "33fd0ae9",
   "metadata": {},
   "outputs": [],
   "source": [
    "train_df = full_df[~full_df['call_id'].isin(df3['call_id'])]  # NOT NECESSARY AS INNER JOIN FROM REASONS FILTERS"
   ]
  },
  {
   "cell_type": "code",
   "execution_count": 18,
   "id": "9121bb8f",
   "metadata": {},
   "outputs": [
    {
     "data": {
      "text/plain": [
       "call_id                    66653\n",
       "customer_id                66653\n",
       "agent_id                   66653\n",
       "call_start_datetime        66653\n",
       "agent_assigned_datetime    66653\n",
       "call_end_datetime          66653\n",
       "call_transcript            66653\n",
       "primary_call_reason        66653\n",
       "dtype: int64"
      ]
     },
     "execution_count": 18,
     "metadata": {},
     "output_type": "execute_result"
    }
   ],
   "source": [
    "train_df.head(5)\n",
    "train_df.count()"
   ]
  },
  {
   "cell_type": "code",
   "execution_count": 19,
   "id": "7d49505d",
   "metadata": {},
   "outputs": [
    {
     "data": {
      "text/html": [
       "<div>\n",
       "<style scoped>\n",
       "    .dataframe tbody tr th:only-of-type {\n",
       "        vertical-align: middle;\n",
       "    }\n",
       "\n",
       "    .dataframe tbody tr th {\n",
       "        vertical-align: top;\n",
       "    }\n",
       "\n",
       "    .dataframe thead th {\n",
       "        text-align: right;\n",
       "    }\n",
       "</style>\n",
       "<table border=\"1\" class=\"dataframe\">\n",
       "  <thead>\n",
       "    <tr style=\"text-align: right;\">\n",
       "      <th></th>\n",
       "      <th>call_id</th>\n",
       "      <th>call_transcript</th>\n",
       "      <th>primary_call_reason</th>\n",
       "    </tr>\n",
       "  </thead>\n",
       "  <tbody>\n",
       "    <tr>\n",
       "      <th>0</th>\n",
       "      <td>4667960400</td>\n",
       "      <td>Agent: Thank you for calling United Airlines c...</td>\n",
       "      <td>voluntary cancel</td>\n",
       "    </tr>\n",
       "    <tr>\n",
       "      <th>1</th>\n",
       "      <td>1122072124</td>\n",
       "      <td>Agent: Thank you for calling United Airlines, ...</td>\n",
       "      <td>booking</td>\n",
       "    </tr>\n",
       "    <tr>\n",
       "      <th>2</th>\n",
       "      <td>6834291559</td>\n",
       "      <td>Agent: Thank you for calling United Airlines c...</td>\n",
       "      <td>irrops</td>\n",
       "    </tr>\n",
       "    <tr>\n",
       "      <th>3</th>\n",
       "      <td>2266439882</td>\n",
       "      <td>Agent: Thank you for calling United Airlines c...</td>\n",
       "      <td>upgrade</td>\n",
       "    </tr>\n",
       "    <tr>\n",
       "      <th>4</th>\n",
       "      <td>1211603231</td>\n",
       "      <td>Agent: Thank you for calling United Airlines c...</td>\n",
       "      <td>seating</td>\n",
       "    </tr>\n",
       "  </tbody>\n",
       "</table>\n",
       "</div>"
      ],
      "text/plain": [
       "      call_id                                    call_transcript   \n",
       "0  4667960400  Agent: Thank you for calling United Airlines c...  \\\n",
       "1  1122072124  Agent: Thank you for calling United Airlines, ...   \n",
       "2  6834291559  Agent: Thank you for calling United Airlines c...   \n",
       "3  2266439882  Agent: Thank you for calling United Airlines c...   \n",
       "4  1211603231  Agent: Thank you for calling United Airlines c...   \n",
       "\n",
       "  primary_call_reason  \n",
       "0    voluntary cancel  \n",
       "1             booking  \n",
       "2              irrops  \n",
       "3             upgrade  \n",
       "4             seating  "
      ]
     },
     "execution_count": 19,
     "metadata": {},
     "output_type": "execute_result"
    }
   ],
   "source": [
    "train_df = train_df[['call_id','call_transcript','primary_call_reason']]\n",
    "train_df.head(5)"
   ]
  },
  {
   "cell_type": "markdown",
   "id": "19294048",
   "metadata": {},
   "source": [
    "# TRAINING AND TESTING THE MODEL"
   ]
  },
  {
   "cell_type": "code",
   "execution_count": null,
   "id": "d17dabfa",
   "metadata": {},
   "outputs": [],
   "source": [
    "from sklearn.ensemble import RandomForestClassifier\n",
    "from sklearn.model_selection import train_test_split\n",
    "from sklearn.metrics import classification_report\n",
    "from sklearn.preprocessing import StandardScaler\n",
    "from imblearn.over_sampling import SMOTE\n",
    "from sklearn.feature_extraction.text import TfidfVectorizer\n",
    "\n",
    "# Initialize the vectorizer\n",
    "vectorizer = TfidfVectorizer()\n",
    "\n",
    "# Transform the text data\n",
    "X = vectorizer.fit_transform(train_df['call_transcript'])\n",
    "y = train_df['primary_call_reason']\n",
    "\n",
    "# Scaling\n",
    "scaler = StandardScaler()\n",
    "X_scaled = scaler.fit_transform(X.toarray()) # sparse to dense for scaling\n",
    "\n",
    "# Handle class imbalance\n",
    "smote = SMOTE()\n",
    "X_resampled, y_resampled = smote.fit_resample(X_scaled, y)\n",
    "\n",
    "# Train-test split\n",
    "X_train, X_test, y_train, y_test = train_test_split(X_resampled, y_resampled, test_size=0.2, random_state=42)\n",
    "\n",
    "# Model training\n",
    "model = RandomForestClassifier(class_weight='balanced')\n",
    "model.fit(X_train, y_train)\n",
    "\n",
    "# Preprocess df3 (assuming df3 also has a 'call_transcript' column)\n",
    "X_df3 = vectorizer.transform(df3['call_transcript'])  # Use the trained vectorizer\n",
    "X_df3_scaled = scaler.transform(X_df3.toarray())      # Apply the same scaling\n",
    "\n",
    "# Make predictions on df3\n",
    "df3_predictions = model.predict(X_df3_scaled)\n",
    "\n",
    "# Save predictions to a CSV file\n",
    "df3['predictions'] = df3_predictions  # Add predictions to the dataframe\n",
    "df3[['predictions']].to_csv('Test.csv', index=False)  # Save only predictions column\n",
    "\n"
   ]
  },
  {
   "cell_type": "code",
   "execution_count": null,
   "id": "e25f35cc",
   "metadata": {},
   "outputs": [],
   "source": []
  }
 ],
 "metadata": {
  "kernelspec": {
   "display_name": "Python 3",
   "language": "python",
   "name": "python3"
  },
  "language_info": {
   "codemirror_mode": {
    "name": "ipython",
    "version": 3
   },
   "file_extension": ".py",
   "mimetype": "text/x-python",
   "name": "python",
   "nbconvert_exporter": "python",
   "pygments_lexer": "ipython3",
   "version": "3.11.6"
  }
 },
 "nbformat": 4,
 "nbformat_minor": 5
}
